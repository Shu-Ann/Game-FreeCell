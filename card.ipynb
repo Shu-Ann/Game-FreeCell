{
 "cells": [
  {
   "cell_type": "code",
   "execution_count": null,
   "id": "465b1f80",
   "metadata": {},
   "outputs": [],
   "source": [
    "class Card:\n",
    "    # create a list for card face from 1~13 (its value)\n",
    "    face = [1,2,3,4,5,6,7,8,9,10,11,12,13]\n",
    "    # create a list for card suit ,Clubs=C, Diamonds=D, Spades=S, Hearts=H\n",
    "    suit = ['C', 'D', 'S', 'H']\n",
    "    \n",
    "    #constructor\n",
    "    #to set up the initial card\n",
    "    def __init__(self, card_face=None, card_suit=None):\n",
    "        \n",
    "        self.card_face=card_face\n",
    "        self.card_suit=card_suit\n",
    "    \n",
    "    #visulaize the suit and unify tens digit to one character\n",
    "    #use icon to represent suits ex: Clubs=♣️\n",
    "    #to represent face as str type and unify tens into a character\n",
    "    #return card as set up for ex:(1,'C')=(A♣️)\n",
    "    def __repr__(self):\n",
    "        \n",
    "        suitlist={'C':'♣️', 'D':'♦️','S':'♠️', 'H':'♥️'} \n",
    "        facedic={**{f:str(f) for f  in range(2,11)},**{1:'A',10:'T',11:'J', 12:'Q',13:'K'}} \n",
    "        return facedic[self.card_face]+suitlist[self.card_suit]\n",
    "   \n",
    "    #display function\n",
    "    def display(self):\n",
    "        return self.__repr__()\n",
    "        \n",
    "        \n",
    "    #accessors\n",
    "    #to access the card face\n",
    "    def get_card_face(self):\n",
    "        return self.card_face\n",
    "\n",
    "    #to access the card suit\n",
    "    def get_card_suit(self):\n",
    "        return self.card_suit\n",
    "    \n",
    "    #mutators\n",
    "    def set_card(self, setface, setsuit):\n",
    "        \n",
    "        self.card_suit=setsuit\n",
    "        self.card_face=setface\n",
    "        return Card(setsuit, setface)\n",
    "    "
   ]
  }
 ],
 "metadata": {
  "kernelspec": {
   "display_name": "Python 3 (ipykernel)",
   "language": "python",
   "name": "python3"
  },
  "language_info": {
   "codemirror_mode": {
    "name": "ipython",
    "version": 3
   },
   "file_extension": ".py",
   "mimetype": "text/x-python",
   "name": "python",
   "nbconvert_exporter": "python",
   "pygments_lexer": "ipython3",
   "version": "3.8.8"
  }
 },
 "nbformat": 4,
 "nbformat_minor": 5
}
