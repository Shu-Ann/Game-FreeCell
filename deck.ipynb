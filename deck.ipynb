{
 "cells": [
  {
   "cell_type": "code",
   "execution_count": null,
   "id": "f438b63e",
   "metadata": {},
   "outputs": [],
   "source": [
    "import random\n",
    "from card import Card\n",
    "\n",
    "class Deck:\n",
    "    #make deck as a list\n",
    "    deck=[] \n",
    "    \n",
    "    ##constructor\n",
    "    #to set up the initial deck attributes\n",
    "    #for suits in suit=['C', 'D', 'S', 'H'] (defined in class Card) for 4 types of suit from 'C' to 'H'.\n",
    "    #for faces in face=[1,2,3,4,5,6,7,8,9,10,11,12,13] (defined in class Card) from 1(value_start-1, since index in the list=0) to 13 \n",
    "    #creat cards in total number= (value_end-(value_start-1))*number_of_suit\n",
    "    #join into the deck list\n",
    "    def __init__(self, value_start, value_end, number_of_suit):\n",
    "        \n",
    "        for suits in Card.suit[0:number_of_suit]:\n",
    "            for faces in Card.face[(value_start-1):value_end]:\n",
    "                card=Card(faces, suits)\n",
    "                self.deck.append(card)\n",
    "        \n",
    "        self.value_start=value_start\n",
    "        self.value_end=value_end\n",
    "        self.number_of_suit=number_of_suit           \n",
    "    \n",
    "    #mutators \n",
    "    #set up method as the same as above\n",
    "    def set_deck(self):\n",
    "        \n",
    "        for suits in Card.suit[0:self.number_of_suit]:\n",
    "            for faces in Card.face[(self.value_start-1):self.value_end]:\n",
    "                card=Card(faces, suits)\n",
    "                self.deck.append(card)\n",
    "    \n",
    "    #accessors\n",
    "    def get_deck(self):\n",
    "        return self.deck\n",
    "    \n",
    "    #display function: use the card format which set up in class Card to represent and display\n",
    "    def display_deck(self): \n",
    "        print( ' '.join([card.__repr__() for card in self.deck]))\n",
    "    \n",
    "    #shuffle function, use random to shuffle\n",
    "    def shuffle(self):\n",
    "        random.shuffle(self.deck) \n",
    "    \n",
    "    #add function: give an assigned card(addface, addsuit) and add it into the last(append()) in the deck\n",
    "    def add_card(self, addface, addsuit):\n",
    "        self.deck.append(Card(addface, addsuit))\n",
    "    \n",
    "    #draw function: pop up the card from the last one(-1) that in the deck\n",
    "    def draw_card(self):\n",
    "        return self.deck.pop(-1) \n",
    "\n"
   ]
  }
 ],
 "metadata": {
  "kernelspec": {
   "display_name": "Python 3 (ipykernel)",
   "language": "python",
   "name": "python3"
  },
  "language_info": {
   "codemirror_mode": {
    "name": "ipython",
    "version": 3
   },
   "file_extension": ".py",
   "mimetype": "text/x-python",
   "name": "python",
   "nbconvert_exporter": "python",
   "pygments_lexer": "ipython3",
   "version": "3.8.8"
  }
 },
 "nbformat": 4,
 "nbformat_minor": 5
}
